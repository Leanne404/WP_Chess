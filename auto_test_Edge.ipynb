{
 "cells": [
  {
   "cell_type": "code",
   "execution_count": 1,
   "metadata": {},
   "outputs": [],
   "source": [
    "from selenium import webdriver\n",
    "import time "
   ]
  },
  {
   "cell_type": "code",
   "execution_count": 52,
   "metadata": {},
   "outputs": [],
   "source": [
    "driver = webdriver.Edge( executable_path='msedgedriver.exe' )\n",
    "driver.get( 'http://localhost:3000/' )\n",
    "\n",
    "driver.find_element_by_id( 'basic_userName' ).send_keys( 'Ali' )\n",
    "time.sleep( 0.5 )\n",
    "driver.find_elements_by_css_selector( '.ant-btn-primary' )[1].click()\n",
    "gameID = driver.find_element_by_css_selector( '.cslrZV > p' ).text[13:]\n",
    "\n",
    "driver.execute_script( f'window.open(\"http://localhost:3000/\");' )\n",
    "driver.switch_to.window( driver.window_handles[ 1 ] )\n",
    "driver.find_element_by_id( 'basic_userName' ).send_keys( 'PuSung' )\n",
    "driver.find_element_by_id( 'basic_roomNumber' ).send_keys( gameID )\n",
    "time.sleep( 0.5 )\n",
    "driver.find_elements_by_css_selector( '.ant-btn-primary' )[1].click()"
   ]
  }
 ],
 "metadata": {
  "kernelspec": {
   "display_name": "Python 3",
   "language": "python",
   "name": "python3"
  },
  "language_info": {
   "codemirror_mode": {
    "name": "ipython",
    "version": 3
   },
   "file_extension": ".py",
   "mimetype": "text/x-python",
   "name": "python",
   "nbconvert_exporter": "python",
   "pygments_lexer": "ipython3",
   "version": "3.10.2"
  },
  "orig_nbformat": 4,
  "vscode": {
   "interpreter": {
    "hash": "356998c43310144b96a2843b6a00592392af50ee3be89b7f2bab29543afc8c0d"
   }
  }
 },
 "nbformat": 4,
 "nbformat_minor": 2
}
