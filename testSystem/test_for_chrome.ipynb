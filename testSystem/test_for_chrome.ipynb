{
 "cells": [
  {
   "cell_type": "code",
   "execution_count": 47,
   "metadata": {},
   "outputs": [],
   "source": [
    "import time\n",
    "from selenium import webdriver  #從library中引入webdriver\n",
    "from selenium.webdriver.common.by import By\n",
    "browser = webdriver.Chrome()"
   ]
  },
  {
   "cell_type": "code",
   "execution_count": 48,
   "metadata": {},
   "outputs": [],
   "source": [
    "# open first tab\n",
    "browser.get(\"http://localhost:3000\")"
   ]
  },
  {
   "cell_type": "code",
   "execution_count": 49,
   "metadata": {},
   "outputs": [],
   "source": [
    "# login\n",
    "browser.find_element(By.ID, \"basic_userName\").send_keys(\"Ali\")\n",
    "browser.find_element(By.ID, \"basic_password\").send_keys(\"11111111\")\n",
    "time.sleep(0.25)\n",
    "browser.find_element(By.CSS_SELECTOR, \".ant-btn-primary\").click()"
   ]
  },
  {
   "cell_type": "code",
   "execution_count": 50,
   "metadata": {},
   "outputs": [
    {
     "data": {
      "text/plain": [
       "<selenium.webdriver.remote.webelement.WebElement (session=\"b6c69f1fbc87b7cc668dadc841a281ce\", element=\"61b06fd8-5d6b-494b-9465-921efcd69e83\")>"
      ]
     },
     "execution_count": 50,
     "metadata": {},
     "output_type": "execute_result"
    }
   ],
   "source": [
    "# create\n",
    "tmp = browser.find_element(By.CSS_SELECTOR, \".ant-btn-primary\")\n",
    "tmp"
   ]
  },
  {
   "cell_type": "code",
   "execution_count": 51,
   "metadata": {},
   "outputs": [
    {
     "ename": "NoSuchElementException",
     "evalue": "Message: no such element: Unable to locate element: {\"method\":\"css selector\",\"selector\":\".cslrZV > p\"}\n  (Session info: chrome=108.0.5359.125)\nStacktrace:\nBacktrace:\n\t(No symbol) [0x00ABF243]\n\t(No symbol) [0x00A47FD1]\n\t(No symbol) [0x0093D04D]\n\t(No symbol) [0x0096C0B0]\n\t(No symbol) [0x0096C22B]\n\t(No symbol) [0x0099E612]\n\t(No symbol) [0x009885D4]\n\t(No symbol) [0x0099C9EB]\n\t(No symbol) [0x00988386]\n\t(No symbol) [0x0096163C]\n\t(No symbol) [0x0096269D]\n\tGetHandleVerifier [0x00D59A22+2655074]\n\tGetHandleVerifier [0x00D4CA24+2601828]\n\tGetHandleVerifier [0x00B68C0A+619850]\n\tGetHandleVerifier [0x00B67830+614768]\n\t(No symbol) [0x00A505FC]\n\t(No symbol) [0x00A55968]\n\t(No symbol) [0x00A55A55]\n\t(No symbol) [0x00A6051B]\n\tBaseThreadInitThunk [0x76CD7D69+25]\n\tRtlInitializeExceptionChain [0x77AEBB9B+107]\n\tRtlClearBits [0x77AEBB1F+191]\n",
     "output_type": "error",
     "traceback": [
      "\u001b[1;31m---------------------------------------------------------------------------\u001b[0m",
      "\u001b[1;31mNoSuchElementException\u001b[0m                    Traceback (most recent call last)",
      "Cell \u001b[1;32mIn[51], line 1\u001b[0m\n\u001b[1;32m----> 1\u001b[0m gameID \u001b[39m=\u001b[39m browser\u001b[39m.\u001b[39;49mfind_element(By\u001b[39m.\u001b[39;49mCSS_SELECTOR, \u001b[39m\"\u001b[39;49m\u001b[39m.cslrZV > p\u001b[39;49m\u001b[39m\"\u001b[39;49m)\u001b[39m.\u001b[39mtext[\u001b[39m13\u001b[39m:]\n",
      "File \u001b[1;32mc:\\Users\\USER\\AppData\\Local\\Programs\\Python\\Python310\\lib\\site-packages\\selenium\\webdriver\\remote\\webdriver.py:861\u001b[0m, in \u001b[0;36mWebDriver.find_element\u001b[1;34m(self, by, value)\u001b[0m\n\u001b[0;32m    858\u001b[0m     by \u001b[39m=\u001b[39m By\u001b[39m.\u001b[39mCSS_SELECTOR\n\u001b[0;32m    859\u001b[0m     value \u001b[39m=\u001b[39m \u001b[39m'\u001b[39m\u001b[39m[name=\u001b[39m\u001b[39m\"\u001b[39m\u001b[39m%s\u001b[39;00m\u001b[39m\"\u001b[39m\u001b[39m]\u001b[39m\u001b[39m'\u001b[39m \u001b[39m%\u001b[39m value\n\u001b[1;32m--> 861\u001b[0m \u001b[39mreturn\u001b[39;00m \u001b[39mself\u001b[39;49m\u001b[39m.\u001b[39;49mexecute(Command\u001b[39m.\u001b[39;49mFIND_ELEMENT, {\u001b[39m\"\u001b[39;49m\u001b[39musing\u001b[39;49m\u001b[39m\"\u001b[39;49m: by, \u001b[39m\"\u001b[39;49m\u001b[39mvalue\u001b[39;49m\u001b[39m\"\u001b[39;49m: value})[\u001b[39m\"\u001b[39m\u001b[39mvalue\u001b[39m\u001b[39m\"\u001b[39m]\n",
      "File \u001b[1;32mc:\\Users\\USER\\AppData\\Local\\Programs\\Python\\Python310\\lib\\site-packages\\selenium\\webdriver\\remote\\webdriver.py:444\u001b[0m, in \u001b[0;36mWebDriver.execute\u001b[1;34m(self, driver_command, params)\u001b[0m\n\u001b[0;32m    442\u001b[0m response \u001b[39m=\u001b[39m \u001b[39mself\u001b[39m\u001b[39m.\u001b[39mcommand_executor\u001b[39m.\u001b[39mexecute(driver_command, params)\n\u001b[0;32m    443\u001b[0m \u001b[39mif\u001b[39;00m response:\n\u001b[1;32m--> 444\u001b[0m     \u001b[39mself\u001b[39;49m\u001b[39m.\u001b[39;49merror_handler\u001b[39m.\u001b[39;49mcheck_response(response)\n\u001b[0;32m    445\u001b[0m     response[\u001b[39m\"\u001b[39m\u001b[39mvalue\u001b[39m\u001b[39m\"\u001b[39m] \u001b[39m=\u001b[39m \u001b[39mself\u001b[39m\u001b[39m.\u001b[39m_unwrap_value(response\u001b[39m.\u001b[39mget(\u001b[39m\"\u001b[39m\u001b[39mvalue\u001b[39m\u001b[39m\"\u001b[39m, \u001b[39mNone\u001b[39;00m))\n\u001b[0;32m    446\u001b[0m     \u001b[39mreturn\u001b[39;00m response\n",
      "File \u001b[1;32mc:\\Users\\USER\\AppData\\Local\\Programs\\Python\\Python310\\lib\\site-packages\\selenium\\webdriver\\remote\\errorhandler.py:249\u001b[0m, in \u001b[0;36mErrorHandler.check_response\u001b[1;34m(self, response)\u001b[0m\n\u001b[0;32m    247\u001b[0m         alert_text \u001b[39m=\u001b[39m value[\u001b[39m\"\u001b[39m\u001b[39malert\u001b[39m\u001b[39m\"\u001b[39m]\u001b[39m.\u001b[39mget(\u001b[39m\"\u001b[39m\u001b[39mtext\u001b[39m\u001b[39m\"\u001b[39m)\n\u001b[0;32m    248\u001b[0m     \u001b[39mraise\u001b[39;00m exception_class(message, screen, stacktrace, alert_text)  \u001b[39m# type: ignore[call-arg]  # mypy is not smart enough here\u001b[39;00m\n\u001b[1;32m--> 249\u001b[0m \u001b[39mraise\u001b[39;00m exception_class(message, screen, stacktrace)\n",
      "\u001b[1;31mNoSuchElementException\u001b[0m: Message: no such element: Unable to locate element: {\"method\":\"css selector\",\"selector\":\".cslrZV > p\"}\n  (Session info: chrome=108.0.5359.125)\nStacktrace:\nBacktrace:\n\t(No symbol) [0x00ABF243]\n\t(No symbol) [0x00A47FD1]\n\t(No symbol) [0x0093D04D]\n\t(No symbol) [0x0096C0B0]\n\t(No symbol) [0x0096C22B]\n\t(No symbol) [0x0099E612]\n\t(No symbol) [0x009885D4]\n\t(No symbol) [0x0099C9EB]\n\t(No symbol) [0x00988386]\n\t(No symbol) [0x0096163C]\n\t(No symbol) [0x0096269D]\n\tGetHandleVerifier [0x00D59A22+2655074]\n\tGetHandleVerifier [0x00D4CA24+2601828]\n\tGetHandleVerifier [0x00B68C0A+619850]\n\tGetHandleVerifier [0x00B67830+614768]\n\t(No symbol) [0x00A505FC]\n\t(No symbol) [0x00A55968]\n\t(No symbol) [0x00A55A55]\n\t(No symbol) [0x00A6051B]\n\tBaseThreadInitThunk [0x76CD7D69+25]\n\tRtlInitializeExceptionChain [0x77AEBB9B+107]\n\tRtlClearBits [0x77AEBB1F+191]\n"
     ]
    }
   ],
   "source": [
    "gameID = browser.find_element(By.CSS_SELECTOR, \".cslrZV > p\").text[13:]"
   ]
  },
  {
   "cell_type": "code",
   "execution_count": null,
   "metadata": {},
   "outputs": [],
   "source": [
    "# open second tab\n",
    "browser.execute_script( f'window.open(\"http://localhost:3000/\");' )\n",
    "browser.switch_to.window( browser.window_handles[ 1 ] )"
   ]
  },
  {
   "cell_type": "code",
   "execution_count": null,
   "metadata": {},
   "outputs": [],
   "source": [
    "browser.find_element(By.ID, \"basic_userName\").send_keys(\"Pui\")\n",
    "browser.find_element(By.ID, \"basic_password\").send_keys(\"22222222\")\n",
    "time.sleep(0.25)\n",
    "browser.find_element(By.CSS_SELECTOR, \".ant-btn-primary\").click()"
   ]
  },
  {
   "cell_type": "code",
   "execution_count": null,
   "metadata": {},
   "outputs": [],
   "source": [
    "# join\n",
    "browser.find_element(By.CSS_SELECTOR, \".ant-input\").send_keys(gameID)\n",
    "browser.find_element(By.CSS_SELECTOR, \".ant-btn\").click()"
   ]
  }
 ],
 "metadata": {
  "kernelspec": {
   "display_name": "Python 3",
   "language": "python",
   "name": "python3"
  },
  "language_info": {
   "codemirror_mode": {
    "name": "ipython",
    "version": 3
   },
   "file_extension": ".py",
   "mimetype": "text/x-python",
   "name": "python",
   "nbconvert_exporter": "python",
   "pygments_lexer": "ipython3",
   "version": "3.10.4"
  },
  "orig_nbformat": 4,
  "vscode": {
   "interpreter": {
    "hash": "df95319d8ce4e1d89f5365ae10992bc1f65da593082b1d264e8f529830ec2f02"
   }
  }
 },
 "nbformat": 4,
 "nbformat_minor": 2
}
