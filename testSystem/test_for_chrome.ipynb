{
 "cells": [
  {
   "cell_type": "code",
   "execution_count": 24,
   "metadata": {},
   "outputs": [],
   "source": [
    "import time\n",
    "from selenium import webdriver  #從library中引入webdriver\n",
    "from selenium.webdriver.common.by import By\n",
    "browser = webdriver.Chrome()\n",
    "\n",
    "sleepTime = 0.3"
   ]
  },
  {
   "cell_type": "code",
   "execution_count": 25,
   "metadata": {},
   "outputs": [],
   "source": [
    "# open first tab\n",
    "browser.get(\"http://localhost:3000\")"
   ]
  },
  {
   "cell_type": "code",
   "execution_count": 26,
   "metadata": {},
   "outputs": [],
   "source": [
    "# login\n",
    "browser.find_element(By.ID, \"basic_userName\").send_keys(\"Ali\")\n",
    "browser.find_element(By.ID, \"basic_password\").send_keys(\"11111111\")\n",
    "time.sleep(sleepTime)\n",
    "browser.find_element(By.CSS_SELECTOR, \".ant-btn-primary\").click()"
   ]
  },
  {
   "cell_type": "code",
   "execution_count": 27,
   "metadata": {},
   "outputs": [],
   "source": [
    "# create\n",
    "time.sleep(sleepTime)\n",
    "browser.find_elements(By.CSS_SELECTOR, \".ant-btn-primary\")[1].click()"
   ]
  },
  {
   "cell_type": "code",
   "execution_count": 28,
   "metadata": {},
   "outputs": [
    {
     "name": "stdout",
     "output_type": "stream",
     "text": [
      "7d1bad8e-52a7-4105-ade9-03eecc767e3a\n"
     ]
    }
   ],
   "source": [
    "time.sleep(sleepTime)\n",
    "gameID = browser.find_element(By.CSS_SELECTOR, \".sc-pyfCe > p\").text[13:]\n",
    "print(gameID)"
   ]
  },
  {
   "cell_type": "code",
   "execution_count": 29,
   "metadata": {},
   "outputs": [],
   "source": [
    "# open second tab\n",
    "browser.execute_script( f'window.open(\"http://localhost:3000/\");' )\n",
    "browser.switch_to.window( browser.window_handles[ 1 ] )"
   ]
  },
  {
   "cell_type": "code",
   "execution_count": 30,
   "metadata": {},
   "outputs": [],
   "source": [
    "browser.find_element(By.ID, \"basic_userName\").send_keys(\"Pui\")\n",
    "browser.find_element(By.ID, \"basic_password\").send_keys(\"22222222\")\n",
    "time.sleep(sleepTime)\n",
    "browser.find_element(By.CSS_SELECTOR, \".ant-btn-primary\").click()"
   ]
  },
  {
   "cell_type": "code",
   "execution_count": 31,
   "metadata": {},
   "outputs": [],
   "source": [
    "# join\n",
    "time.sleep(sleepTime)\n",
    "browser.find_element(By.CSS_SELECTOR, \".ant-input\").send_keys(gameID)\n",
    "browser.find_element(By.CSS_SELECTOR, \".ant-btn\").click()"
   ]
  }
 ],
 "metadata": {
  "kernelspec": {
   "display_name": "Python 3",
   "language": "python",
   "name": "python3"
  },
  "language_info": {
   "codemirror_mode": {
    "name": "ipython",
    "version": 3
   },
   "file_extension": ".py",
   "mimetype": "text/x-python",
   "name": "python",
   "nbconvert_exporter": "python",
   "pygments_lexer": "ipython3",
   "version": "3.10.6"
  },
  "orig_nbformat": 4,
  "vscode": {
   "interpreter": {
    "hash": "fb4569285eef3a3450cb62085a5b1e0da4bce0af555edc33dcf29baf3acc1368"
   }
  }
 },
 "nbformat": 4,
 "nbformat_minor": 2
}
