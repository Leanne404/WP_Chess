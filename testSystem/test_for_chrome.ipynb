{
 "cells": [
  {
   "cell_type": "code",
   "execution_count": 28,
   "metadata": {},
   "outputs": [],
   "source": [
    "import time\n",
    "from selenium import webdriver  #從library中引入webdriver\n",
    "from selenium.webdriver.common.by import By\n",
    "browser = webdriver.Chrome()\n",
    "\n",
    "sleepTime = 0.3"
   ]
  },
  {
   "cell_type": "code",
   "execution_count": 29,
   "metadata": {},
   "outputs": [],
   "source": [
    "# open first tab\n",
    "browser.get(\"http://localhost:3000\")"
   ]
  },
  {
   "cell_type": "code",
   "execution_count": 30,
   "metadata": {},
   "outputs": [],
   "source": [
    "# login\n",
    "browser.find_element(By.ID, \"basic_userName\").send_keys(\"Ali\")\n",
    "browser.find_element(By.ID, \"basic_password\").send_keys(\"11111111\")\n",
    "time.sleep(sleepTime)\n",
    "browser.find_element(By.CSS_SELECTOR, \".ant-btn-primary\").click()"
   ]
  },
  {
   "cell_type": "code",
   "execution_count": 31,
   "metadata": {},
   "outputs": [],
   "source": [
    "# create\n",
    "time.sleep(sleepTime)\n",
    "browser.find_elements(By.CSS_SELECTOR, \".ant-btn-primary\")[1].click()"
   ]
  },
  {
   "cell_type": "code",
   "execution_count": 32,
   "metadata": {},
   "outputs": [
    {
     "ename": "NoSuchElementException",
     "evalue": "Message: no such element: Unable to locate element: {\"method\":\"css selector\",\"selector\":\".cslrZV > p\"}\n  (Session info: chrome=108.0.5359.124)\nStacktrace:\n0   chromedriver                        0x000000010c303f38 chromedriver + 4910904\n1   chromedriver                        0x000000010c283a03 chromedriver + 4385283\n2   chromedriver                        0x000000010bec8747 chromedriver + 472903\n3   chromedriver                        0x000000010bf0d34c chromedriver + 754508\n4   chromedriver                        0x000000010bf0d5a1 chromedriver + 755105\n5   chromedriver                        0x000000010bf50e94 chromedriver + 1031828\n6   chromedriver                        0x000000010bf3313d chromedriver + 909629\n7   chromedriver                        0x000000010bf4e28e chromedriver + 1020558\n8   chromedriver                        0x000000010bf32ee3 chromedriver + 909027\n9   chromedriver                        0x000000010befd30c chromedriver + 688908\n10  chromedriver                        0x000000010befe88e chromedriver + 694414\n11  chromedriver                        0x000000010c2d11de chromedriver + 4702686\n12  chromedriver                        0x000000010c2d5b19 chromedriver + 4721433\n13  chromedriver                        0x000000010c2dd28e chromedriver + 4752014\n14  chromedriver                        0x000000010c2d691a chromedriver + 4725018\n15  chromedriver                        0x000000010c2aab02 chromedriver + 4545282\n16  chromedriver                        0x000000010c2f5888 chromedriver + 4851848\n17  chromedriver                        0x000000010c2f5a05 chromedriver + 4852229\n18  chromedriver                        0x000000010c30be5f chromedriver + 4943455\n19  libsystem_pthread.dylib             0x00007ff802d934e1 _pthread_start + 125\n20  libsystem_pthread.dylib             0x00007ff802d8ef6b thread_start + 15\n",
     "output_type": "error",
     "traceback": [
      "\u001b[0;31m---------------------------------------------------------------------------\u001b[0m",
      "\u001b[0;31mNoSuchElementException\u001b[0m                    Traceback (most recent call last)",
      "Cell \u001b[0;32mIn [32], line 2\u001b[0m\n\u001b[1;32m      1\u001b[0m time\u001b[39m.\u001b[39msleep(sleepTime)\n\u001b[0;32m----> 2\u001b[0m gameID \u001b[39m=\u001b[39m browser\u001b[39m.\u001b[39;49mfind_element(By\u001b[39m.\u001b[39;49mCSS_SELECTOR, \u001b[39m\"\u001b[39;49m\u001b[39m.cslrZV > p\u001b[39;49m\u001b[39m\"\u001b[39;49m)\u001b[39m.\u001b[39mtext[\u001b[39m13\u001b[39m:]\n",
      "File \u001b[0;32m~/Library/Python/3.9/lib/python/site-packages/selenium/webdriver/remote/webdriver.py:861\u001b[0m, in \u001b[0;36mWebDriver.find_element\u001b[0;34m(self, by, value)\u001b[0m\n\u001b[1;32m    858\u001b[0m     by \u001b[39m=\u001b[39m By\u001b[39m.\u001b[39mCSS_SELECTOR\n\u001b[1;32m    859\u001b[0m     value \u001b[39m=\u001b[39m \u001b[39m'\u001b[39m\u001b[39m[name=\u001b[39m\u001b[39m\"\u001b[39m\u001b[39m%s\u001b[39;00m\u001b[39m\"\u001b[39m\u001b[39m]\u001b[39m\u001b[39m'\u001b[39m \u001b[39m%\u001b[39m value\n\u001b[0;32m--> 861\u001b[0m \u001b[39mreturn\u001b[39;00m \u001b[39mself\u001b[39;49m\u001b[39m.\u001b[39;49mexecute(Command\u001b[39m.\u001b[39;49mFIND_ELEMENT, {\u001b[39m\"\u001b[39;49m\u001b[39musing\u001b[39;49m\u001b[39m\"\u001b[39;49m: by, \u001b[39m\"\u001b[39;49m\u001b[39mvalue\u001b[39;49m\u001b[39m\"\u001b[39;49m: value})[\u001b[39m\"\u001b[39m\u001b[39mvalue\u001b[39m\u001b[39m\"\u001b[39m]\n",
      "File \u001b[0;32m~/Library/Python/3.9/lib/python/site-packages/selenium/webdriver/remote/webdriver.py:444\u001b[0m, in \u001b[0;36mWebDriver.execute\u001b[0;34m(self, driver_command, params)\u001b[0m\n\u001b[1;32m    442\u001b[0m response \u001b[39m=\u001b[39m \u001b[39mself\u001b[39m\u001b[39m.\u001b[39mcommand_executor\u001b[39m.\u001b[39mexecute(driver_command, params)\n\u001b[1;32m    443\u001b[0m \u001b[39mif\u001b[39;00m response:\n\u001b[0;32m--> 444\u001b[0m     \u001b[39mself\u001b[39;49m\u001b[39m.\u001b[39;49merror_handler\u001b[39m.\u001b[39;49mcheck_response(response)\n\u001b[1;32m    445\u001b[0m     response[\u001b[39m\"\u001b[39m\u001b[39mvalue\u001b[39m\u001b[39m\"\u001b[39m] \u001b[39m=\u001b[39m \u001b[39mself\u001b[39m\u001b[39m.\u001b[39m_unwrap_value(response\u001b[39m.\u001b[39mget(\u001b[39m\"\u001b[39m\u001b[39mvalue\u001b[39m\u001b[39m\"\u001b[39m, \u001b[39mNone\u001b[39;00m))\n\u001b[1;32m    446\u001b[0m     \u001b[39mreturn\u001b[39;00m response\n",
      "File \u001b[0;32m~/Library/Python/3.9/lib/python/site-packages/selenium/webdriver/remote/errorhandler.py:249\u001b[0m, in \u001b[0;36mErrorHandler.check_response\u001b[0;34m(self, response)\u001b[0m\n\u001b[1;32m    247\u001b[0m         alert_text \u001b[39m=\u001b[39m value[\u001b[39m\"\u001b[39m\u001b[39malert\u001b[39m\u001b[39m\"\u001b[39m]\u001b[39m.\u001b[39mget(\u001b[39m\"\u001b[39m\u001b[39mtext\u001b[39m\u001b[39m\"\u001b[39m)\n\u001b[1;32m    248\u001b[0m     \u001b[39mraise\u001b[39;00m exception_class(message, screen, stacktrace, alert_text)  \u001b[39m# type: ignore[call-arg]  # mypy is not smart enough here\u001b[39;00m\n\u001b[0;32m--> 249\u001b[0m \u001b[39mraise\u001b[39;00m exception_class(message, screen, stacktrace)\n",
      "\u001b[0;31mNoSuchElementException\u001b[0m: Message: no such element: Unable to locate element: {\"method\":\"css selector\",\"selector\":\".cslrZV > p\"}\n  (Session info: chrome=108.0.5359.124)\nStacktrace:\n0   chromedriver                        0x000000010c303f38 chromedriver + 4910904\n1   chromedriver                        0x000000010c283a03 chromedriver + 4385283\n2   chromedriver                        0x000000010bec8747 chromedriver + 472903\n3   chromedriver                        0x000000010bf0d34c chromedriver + 754508\n4   chromedriver                        0x000000010bf0d5a1 chromedriver + 755105\n5   chromedriver                        0x000000010bf50e94 chromedriver + 1031828\n6   chromedriver                        0x000000010bf3313d chromedriver + 909629\n7   chromedriver                        0x000000010bf4e28e chromedriver + 1020558\n8   chromedriver                        0x000000010bf32ee3 chromedriver + 909027\n9   chromedriver                        0x000000010befd30c chromedriver + 688908\n10  chromedriver                        0x000000010befe88e chromedriver + 694414\n11  chromedriver                        0x000000010c2d11de chromedriver + 4702686\n12  chromedriver                        0x000000010c2d5b19 chromedriver + 4721433\n13  chromedriver                        0x000000010c2dd28e chromedriver + 4752014\n14  chromedriver                        0x000000010c2d691a chromedriver + 4725018\n15  chromedriver                        0x000000010c2aab02 chromedriver + 4545282\n16  chromedriver                        0x000000010c2f5888 chromedriver + 4851848\n17  chromedriver                        0x000000010c2f5a05 chromedriver + 4852229\n18  chromedriver                        0x000000010c30be5f chromedriver + 4943455\n19  libsystem_pthread.dylib             0x00007ff802d934e1 _pthread_start + 125\n20  libsystem_pthread.dylib             0x00007ff802d8ef6b thread_start + 15\n"
     ]
    }
   ],
   "source": [
    "time.sleep(sleepTime)\n",
    "gameID = browser.find_element(By.CSS_SELECTOR, \".cslrZV > p\").text[13:]"
   ]
  },
  {
   "cell_type": "code",
   "execution_count": null,
   "metadata": {},
   "outputs": [],
   "source": [
    "# open second tab\n",
    "browser.execute_script( f'window.open(\"http://localhost:3000/\");' )\n",
    "browser.switch_to.window( browser.window_handles[ 1 ] )"
   ]
  },
  {
   "cell_type": "code",
   "execution_count": null,
   "metadata": {},
   "outputs": [],
   "source": [
    "browser.find_element(By.ID, \"basic_userName\").send_keys(\"Pui\")\n",
    "browser.find_element(By.ID, \"basic_password\").send_keys(\"22222222\")\n",
    "time.sleep(sleepTime)\n",
    "browser.find_element(By.CSS_SELECTOR, \".ant-btn-primary\").click()"
   ]
  },
  {
   "cell_type": "code",
   "execution_count": null,
   "metadata": {},
   "outputs": [],
   "source": [
    "# join\n",
    "time.sleep(sleepTime)\n",
    "browser.find_element(By.CSS_SELECTOR, \".ant-input\").send_keys(gameID)\n",
    "browser.find_element(By.CSS_SELECTOR, \".ant-btn\").click()"
   ]
  }
 ],
 "metadata": {
  "kernelspec": {
   "display_name": "Python 3",
   "language": "python",
   "name": "python3"
  },
  "language_info": {
   "codemirror_mode": {
    "name": "ipython",
    "version": 3
   },
   "file_extension": ".py",
   "mimetype": "text/x-python",
   "name": "python",
   "nbconvert_exporter": "python",
   "pygments_lexer": "ipython3",
   "version": "3.9.6"
  },
  "orig_nbformat": 4,
  "vscode": {
   "interpreter": {
    "hash": "31f2aee4e71d21fbe5cf8b01ff0e069b9275f58929596ceb00d14d90e3e16cd6"
   }
  }
 },
 "nbformat": 4,
 "nbformat_minor": 2
}
